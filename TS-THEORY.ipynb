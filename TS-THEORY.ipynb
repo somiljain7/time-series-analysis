{
 "cells": [
  {
   "cell_type": "raw",
   "metadata": {},
   "source": [
    "# average method\n",
    "# the best predictor of what will happen tomorrow is  the average of everything tha has happened up till now"
   ]
  },
  {
   "cell_type": "raw",
   "metadata": {},
   "source": [
    "# naive method\n",
    "#storing previous record for forcasting later"
   ]
  },
  {
   "cell_type": "markdown",
   "metadata": {},
   "source": [
    "    # EXPONENTIAL SMOOTHING FORECASTING \n",
    "        TIME SERIES = ERROR TREND SEASONALITY"
   ]
  },
  {
   "cell_type": "raw",
   "metadata": {},
   "source": [
    "ets USES WEIGHED AVERAGES FROM PAST OBSERVATIONS GIVING MORE WEIGHT TO RECENT OBSERVATION WITH WEIGHTS GRADUALLY GETTING SMALLER WITH OBSERVATION AGING.\n"
   ]
  },
  {
   "cell_type": "raw",
   "metadata": {},
   "source": [
    "    TIME SERIES DECOMPOSTION PLOT  -> PLOTS  SEPRATES  SERIES INTO SEASON TREND AND ERROR COMPONENT"
   ]
  },
  {
   "cell_type": "markdown",
   "metadata": {},
   "source": [
    "ADDITIVE METHOD : USEFUL WHEN TREND AND SESONAL VARIATION RELATIVELY CONSTANT OVER TIME.\n",
    "    MULTIPLICATIVE METHOD: USEFUL WHEN TREND AND SESONAL VARIATION 'S MAGNITUDES INCREASES OR DECREASES OVER TIME."
   ]
  },
  {
   "cell_type": "markdown",
   "metadata": {},
   "source": [
    "ETS MODELS- \n",
    "1> SIMPLE EXPONENTIAL SMOOTHING METHOD \n",
    "2> HOLT'S LINEAR TREND METHOD \n",
    "3"
   ]
  },
  {
   "cell_type": "markdown",
   "metadata": {},
   "source": []
  },
  {
   "cell_type": "markdown",
   "metadata": {},
   "source": [
    "# "
   ]
  },
  {
   "cell_type": "code",
   "execution_count": null,
   "metadata": {},
   "outputs": [],
   "source": []
  }
 ],
 "metadata": {
  "kernelspec": {
   "display_name": "Python 3",
   "language": "python",
   "name": "python3"
  },
  "language_info": {
   "codemirror_mode": {
    "name": "ipython",
    "version": 3
   },
   "file_extension": ".py",
   "mimetype": "text/x-python",
   "name": "python",
   "nbconvert_exporter": "python",
   "pygments_lexer": "ipython3",
   "version": "3.7.3"
  }
 },
 "nbformat": 4,
 "nbformat_minor": 2
}
